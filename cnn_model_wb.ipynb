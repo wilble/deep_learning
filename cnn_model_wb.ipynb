{
  "nbformat": 4,
  "nbformat_minor": 0,
  "metadata": {
    "colab": {
      "provenance": [],
      "gpuType": "T4"
    },
    "kernelspec": {
      "name": "python3",
      "display_name": "Python 3"
    },
    "language_info": {
      "name": "python"
    },
    "accelerator": "GPU"
  },
  "cells": [
    {
      "cell_type": "code",
      "execution_count": null,
      "metadata": {
        "colab": {
          "base_uri": "https://localhost:8080/"
        },
        "id": "3XKJOYj7vgik",
        "outputId": "174f2039-30ff-4202-a424-7f1b0049d15c"
      },
      "outputs": [
        {
          "output_type": "stream",
          "name": "stdout",
          "text": [
            "Drive already mounted at /content/drive; to attempt to forcibly remount, call drive.mount(\"/content/drive\", force_remount=True).\n"
          ]
        }
      ],
      "source": [
        "import os\n",
        "import matplotlib.pyplot as plt\n",
        "\n",
        "from tensorflow.keras.preprocessing.image import ImageDataGenerator\n",
        "from tensorflow.keras.callbacks import EarlyStopping, ReduceLROnPlateau\n",
        "from tensorflow.keras.models import Model\n",
        "from tensorflow.keras.layers import Dense, Conv2D, MaxPooling2D, Dropout, Flatten, BatchNormalization, Input\n",
        "from tensorflow.keras.optimizers import Adam\n",
        "from google.colab import drive\n",
        "drive.mount('/content/drive')\n",
        "\n"
      ]
    },
    {
      "cell_type": "code",
      "source": [
        "import shutil\n",
        "\n",
        "folder_path_exp = '/content/drive/MyDrive/images'\n",
        "folder_path_age = '/content/drive/MyDrive/utkcropped'\n",
        "\n",
        "destination_dir_exp = '/content/images'\n",
        "destination_dir_age = '/content/utkcropped'\n",
        "\n",
        "shutil.copytree(folder_path_exp, destination_dir_exp)\n",
        "shutil.copytree(folder_path_age, destination_dir_age)\n"
      ],
      "metadata": {
        "colab": {
          "base_uri": "https://localhost:8080/",
          "height": 35
        },
        "id": "Y_j1gWRDUqfU",
        "outputId": "a7c8723c-bdc6-4fbf-9f3f-f5598b2f9af8"
      },
      "execution_count": 9,
      "outputs": [
        {
          "output_type": "execute_result",
          "data": {
            "text/plain": [
              "'/content/utkcropped'"
            ],
            "application/vnd.google.colaboratory.intrinsic+json": {
              "type": "string"
            }
          },
          "metadata": {},
          "execution_count": 9
        }
      ]
    },
    {
      "cell_type": "code",
      "source": [
        "# konstanter\n",
        "batch_size = 128\n",
        "picture_size = 48\n",
        "num_epochs = 48\n",
        "no_of_classes_exp = 7\n",
        "no_of_classes_age = 104\n"
      ],
      "metadata": {
        "id": "saVgfaOBxH2o"
      },
      "execution_count": 10,
      "outputs": []
    },
    {
      "cell_type": "code",
      "source": [
        "# Datagenerering\n",
        "\n",
        "datagen = ImageDataGenerator(rescale=1./255)\n",
        "\n",
        "train_set_exp = datagen.flow_from_directory(\n",
        "    os.path.join(destination_dir_exp, \"train\"),\n",
        "    target_size=(picture_size, picture_size),\n",
        "    color_mode=\"grayscale\",\n",
        "    batch_size=batch_size,\n",
        "    class_mode='categorical',\n",
        "    shuffle=True,\n",
        "    )\n",
        "\n",
        "val_set_exp = datagen.flow_from_directory(\n",
        "    os.path.join(destination_dir_exp, \"validation\"),\n",
        "    target_size=(picture_size, picture_size),\n",
        "    color_mode=\"grayscale\",\n",
        "    batch_size=batch_size,\n",
        "    class_mode='categorical',\n",
        "    shuffle=False,\n",
        "    )\n",
        "\n",
        "train_set_age = datagen.flow_from_directory(\n",
        "    os.path.join(destination_dir_age, \"train\"),\n",
        "    target_size=(picture_size, picture_size),\n",
        "    color_mode=\"grayscale\",\n",
        "    batch_size=batch_size,\n",
        "    class_mode='categorical',\n",
        "    shuffle=True,\n",
        "    )\n",
        "\n",
        "val_set_age = datagen.flow_from_directory(\n",
        "    os.path.join(destination_dir_age, \"validation\"),\n",
        "    target_size=(picture_size, picture_size),\n",
        "    color_mode=\"grayscale\",\n",
        "    batch_size=batch_size,\n",
        "    class_mode='categorical',\n",
        "    shuffle=False,\n",
        "    )"
      ],
      "metadata": {
        "colab": {
          "base_uri": "https://localhost:8080/"
        },
        "id": "oFPltHuLxKRn",
        "outputId": "724db0c6-3231-4389-e47d-bae69820c85f"
      },
      "execution_count": 11,
      "outputs": [
        {
          "output_type": "stream",
          "name": "stdout",
          "text": [
            "Found 28835 images belonging to 7 classes.\n",
            "Found 7066 images belonging to 7 classes.\n",
            "Found 23727 images belonging to 104 classes.\n",
            "Found 23714 images belonging to 104 classes.\n"
          ]
        }
      ]
    },
    {
      "cell_type": "code",
      "source": [
        "# Lager för modellerna\n",
        "\n",
        "input_layer = Input(shape=(48, 48, 1))\n",
        "\n",
        "conv1 = Conv2D(64, (3, 3), padding='same', activation='relu')(input_layer)\n",
        "conv1 = BatchNormalization()(conv1)\n",
        "conv1 = MaxPooling2D(pool_size=(2, 2))(conv1)\n",
        "conv1 = Dropout(0.25)(conv1)\n",
        "\n",
        "conv2 = Conv2D(128, (5, 5), padding='same', activation='relu')(conv1)\n",
        "conv2 = BatchNormalization()(conv2)\n",
        "conv2 = MaxPooling2D(pool_size=(2, 2))(conv2)\n",
        "conv2 = Dropout(0.4)(conv2)\n",
        "\n",
        "conv3 = Conv2D(512, (3, 3), padding='same', activation='relu')(conv2)\n",
        "conv3 = BatchNormalization()(conv3)\n",
        "conv3 = MaxPooling2D(pool_size=(2, 2))(conv3)\n",
        "conv3 = Dropout(0.25)(conv3)\n",
        "\n",
        "conv4 = Conv2D(512, (3, 3), padding='same', activation='relu')(conv3)\n",
        "conv4 = BatchNormalization()(conv4)\n",
        "conv4 = MaxPooling2D(pool_size=(2, 2))(conv4)\n",
        "conv4 = Dropout(0.25)(conv4)\n",
        "\n",
        "flatten_layer = Flatten()(conv4)\n",
        "\n",
        "fc1 = Dense(256, activation='relu')(flatten_layer)\n",
        "fc1 = BatchNormalization()(fc1)\n",
        "fc1 = Dropout(0.25)(fc1)\n",
        "\n",
        "fc2 = Dense(512, activation='relu')(fc1)\n",
        "fc2 = BatchNormalization()(fc2)\n",
        "fc2 = Dropout(0.25)(fc2)"
      ],
      "metadata": {
        "id": "s-KF0D-mxVoG"
      },
      "execution_count": 12,
      "outputs": []
    },
    {
      "cell_type": "code",
      "source": [
        "# Output för båda modellerna\n",
        "expression_output = Dense(no_of_classes_exp, activation='softmax', name='expression_output')(fc2)\n",
        "age_output = Dense(no_of_classes_age, activation='softmax', name='age_output')(fc2)\n"
      ],
      "metadata": {
        "id": "t0zbZvLPxVft"
      },
      "execution_count": 13,
      "outputs": []
    },
    {
      "cell_type": "code",
      "source": [
        "# Compilar båda modellerna\n",
        "expression_model = Model(inputs=input_layer, outputs=expression_output)\n",
        "age_model = Model(inputs=input_layer, outputs=age_output)\n",
        "\n",
        "opt_expression = Adam(learning_rate=0.0001)\n",
        "opt_age = Adam(learning_rate=0.0001)\n",
        "\n",
        "expression_model.compile(\n",
        "    optimizer=opt_expression,\n",
        "    loss='categorical_crossentropy',\n",
        "    metrics=['accuracy']\n",
        ")\n",
        "\n",
        "age_model.compile(\n",
        "    optimizer=opt_age,\n",
        "    loss='categorical_crossentropy',\n",
        "    metrics=['accuracy']\n",
        ")"
      ],
      "metadata": {
        "id": "YVTiXsNaxVZ-"
      },
      "execution_count": 14,
      "outputs": []
    },
    {
      "cell_type": "code",
      "source": [
        "# Callbacks\n",
        "early_stopping = EarlyStopping(monitor='val_loss', min_delta=0, patience=10, verbose=1, restore_best_weights=True)\n",
        "reduce_learningrate = ReduceLROnPlateau(monitor='val_loss', factor=0.2, patience=10, verbose=1, min_delta=0.0001)\n",
        "\n",
        "callbacks_list = [early_stopping, reduce_learningrate]"
      ],
      "metadata": {
        "id": "5sP8LTc5xVTs"
      },
      "execution_count": 15,
      "outputs": []
    },
    {
      "cell_type": "code",
      "source": [
        "# Träna första modellen\n",
        "expression_model.fit(\n",
        "    train_set_exp,\n",
        "    epochs=num_epochs,\n",
        "    validation_data=val_set_exp,\n",
        "    callbacks=callbacks_list\n",
        ")"
      ],
      "metadata": {
        "colab": {
          "base_uri": "https://localhost:8080/"
        },
        "id": "9oBAaFJyxVL0",
        "outputId": "7d9994da-89b5-4c8c-e11f-b97559391a6a"
      },
      "execution_count": null,
      "outputs": [
        {
          "output_type": "stream",
          "name": "stdout",
          "text": [
            "Epoch 1/48\n",
            "226/226 [==============================] - 22s 75ms/step - loss: 2.4203 - accuracy: 0.1993 - val_loss: 2.3609 - val_accuracy: 0.1717 - lr: 1.0000e-04\n",
            "Epoch 2/48\n",
            "226/226 [==============================] - 16s 70ms/step - loss: 2.1098 - accuracy: 0.2463 - val_loss: 2.1428 - val_accuracy: 0.2038 - lr: 1.0000e-04\n",
            "Epoch 3/48\n",
            "226/226 [==============================] - 16s 72ms/step - loss: 1.9676 - accuracy: 0.2856 - val_loss: 1.9982 - val_accuracy: 0.3054 - lr: 1.0000e-04\n",
            "Epoch 4/48\n",
            "226/226 [==============================] - 17s 74ms/step - loss: 1.8604 - accuracy: 0.3202 - val_loss: 1.9165 - val_accuracy: 0.3524 - lr: 1.0000e-04\n",
            "Epoch 5/48\n",
            "226/226 [==============================] - 18s 78ms/step - loss: 1.7862 - accuracy: 0.3417 - val_loss: 1.7296 - val_accuracy: 0.3760 - lr: 1.0000e-04\n",
            "Epoch 6/48\n",
            "226/226 [==============================] - 16s 72ms/step - loss: 1.7161 - accuracy: 0.3660 - val_loss: 1.7514 - val_accuracy: 0.3902 - lr: 1.0000e-04\n",
            "Epoch 7/48\n",
            "226/226 [==============================] - 16s 72ms/step - loss: 1.6666 - accuracy: 0.3820 - val_loss: 1.7493 - val_accuracy: 0.4039 - lr: 1.0000e-04\n",
            "Epoch 8/48\n",
            "226/226 [==============================] - 16s 72ms/step - loss: 1.6109 - accuracy: 0.3996 - val_loss: 1.5398 - val_accuracy: 0.4302 - lr: 1.0000e-04\n",
            "Epoch 9/48\n",
            "226/226 [==============================] - 16s 72ms/step - loss: 1.5489 - accuracy: 0.4177 - val_loss: 1.7173 - val_accuracy: 0.4158 - lr: 1.0000e-04\n",
            "Epoch 10/48\n",
            "226/226 [==============================] - 20s 86ms/step - loss: 1.5012 - accuracy: 0.4346 - val_loss: 1.4768 - val_accuracy: 0.4643 - lr: 1.0000e-04\n",
            "Epoch 11/48\n",
            "226/226 [==============================] - 16s 73ms/step - loss: 1.4560 - accuracy: 0.4521 - val_loss: 1.4787 - val_accuracy: 0.4674 - lr: 1.0000e-04\n",
            "Epoch 12/48\n",
            "226/226 [==============================] - 16s 72ms/step - loss: 1.4150 - accuracy: 0.4662 - val_loss: 1.5391 - val_accuracy: 0.4643 - lr: 1.0000e-04\n",
            "Epoch 13/48\n",
            "226/226 [==============================] - 16s 72ms/step - loss: 1.3798 - accuracy: 0.4777 - val_loss: 1.3666 - val_accuracy: 0.4970 - lr: 1.0000e-04\n",
            "Epoch 14/48\n",
            "226/226 [==============================] - 19s 86ms/step - loss: 1.3412 - accuracy: 0.4929 - val_loss: 1.3802 - val_accuracy: 0.5082 - lr: 1.0000e-04\n",
            "Epoch 15/48\n",
            "226/226 [==============================] - 17s 73ms/step - loss: 1.3027 - accuracy: 0.5083 - val_loss: 1.3236 - val_accuracy: 0.5159 - lr: 1.0000e-04\n",
            "Epoch 16/48\n",
            "226/226 [==============================] - 16s 72ms/step - loss: 1.2675 - accuracy: 0.5210 - val_loss: 1.2913 - val_accuracy: 0.5320 - lr: 1.0000e-04\n",
            "Epoch 17/48\n",
            "226/226 [==============================] - 17s 73ms/step - loss: 1.2364 - accuracy: 0.5323 - val_loss: 1.2629 - val_accuracy: 0.5396 - lr: 1.0000e-04\n",
            "Epoch 18/48\n",
            "226/226 [==============================] - 17s 73ms/step - loss: 1.2152 - accuracy: 0.5382 - val_loss: 1.2183 - val_accuracy: 0.5507 - lr: 1.0000e-04\n",
            "Epoch 19/48\n",
            "226/226 [==============================] - 17s 75ms/step - loss: 1.1813 - accuracy: 0.5540 - val_loss: 1.2896 - val_accuracy: 0.5517 - lr: 1.0000e-04\n",
            "Epoch 20/48\n",
            "226/226 [==============================] - 18s 81ms/step - loss: 1.1547 - accuracy: 0.5636 - val_loss: 1.1810 - val_accuracy: 0.5661 - lr: 1.0000e-04\n",
            "Epoch 21/48\n",
            "226/226 [==============================] - 17s 73ms/step - loss: 1.1254 - accuracy: 0.5756 - val_loss: 1.1850 - val_accuracy: 0.5701 - lr: 1.0000e-04\n",
            "Epoch 22/48\n",
            "226/226 [==============================] - 17s 75ms/step - loss: 1.0983 - accuracy: 0.5842 - val_loss: 1.1988 - val_accuracy: 0.5597 - lr: 1.0000e-04\n",
            "Epoch 23/48\n",
            "226/226 [==============================] - 20s 86ms/step - loss: 1.0708 - accuracy: 0.5953 - val_loss: 1.1499 - val_accuracy: 0.5899 - lr: 1.0000e-04\n",
            "Epoch 24/48\n",
            "226/226 [==============================] - 16s 73ms/step - loss: 1.0529 - accuracy: 0.6043 - val_loss: 1.1523 - val_accuracy: 0.5875 - lr: 1.0000e-04\n",
            "Epoch 25/48\n",
            "226/226 [==============================] - 16s 73ms/step - loss: 1.0212 - accuracy: 0.6155 - val_loss: 1.1558 - val_accuracy: 0.5794 - lr: 1.0000e-04\n",
            "Epoch 26/48\n",
            "226/226 [==============================] - 16s 72ms/step - loss: 1.0011 - accuracy: 0.6268 - val_loss: 1.1436 - val_accuracy: 0.5969 - lr: 1.0000e-04\n",
            "Epoch 27/48\n",
            "226/226 [==============================] - 17s 73ms/step - loss: 0.9725 - accuracy: 0.6357 - val_loss: 1.1205 - val_accuracy: 0.6054 - lr: 1.0000e-04\n",
            "Epoch 28/48\n",
            "226/226 [==============================] - 17s 73ms/step - loss: 0.9500 - accuracy: 0.6479 - val_loss: 1.1188 - val_accuracy: 0.6057 - lr: 1.0000e-04\n",
            "Epoch 29/48\n",
            "226/226 [==============================] - 17s 73ms/step - loss: 0.9243 - accuracy: 0.6532 - val_loss: 1.1132 - val_accuracy: 0.6053 - lr: 1.0000e-04\n",
            "Epoch 30/48\n",
            "226/226 [==============================] - 16s 73ms/step - loss: 0.9022 - accuracy: 0.6613 - val_loss: 1.1103 - val_accuracy: 0.6057 - lr: 1.0000e-04\n",
            "Epoch 31/48\n",
            "226/226 [==============================] - 17s 73ms/step - loss: 0.8707 - accuracy: 0.6728 - val_loss: 1.1011 - val_accuracy: 0.6173 - lr: 1.0000e-04\n",
            "Epoch 32/48\n",
            "226/226 [==============================] - 17s 75ms/step - loss: 0.8402 - accuracy: 0.6886 - val_loss: 1.1208 - val_accuracy: 0.6091 - lr: 1.0000e-04\n",
            "Epoch 33/48\n",
            "226/226 [==============================] - 17s 75ms/step - loss: 0.8194 - accuracy: 0.6983 - val_loss: 1.1588 - val_accuracy: 0.6001 - lr: 1.0000e-04\n",
            "Epoch 34/48\n",
            "226/226 [==============================] - 17s 76ms/step - loss: 0.7900 - accuracy: 0.7082 - val_loss: 1.1606 - val_accuracy: 0.6070 - lr: 1.0000e-04\n",
            "Epoch 35/48\n",
            "226/226 [==============================] - 17s 75ms/step - loss: 0.7604 - accuracy: 0.7184 - val_loss: 1.1208 - val_accuracy: 0.6268 - lr: 1.0000e-04\n",
            "Epoch 36/48\n",
            "226/226 [==============================] - 17s 74ms/step - loss: 0.7364 - accuracy: 0.7272 - val_loss: 1.1785 - val_accuracy: 0.6136 - lr: 1.0000e-04\n",
            "Epoch 37/48\n",
            "226/226 [==============================] - 16s 73ms/step - loss: 0.7035 - accuracy: 0.7392 - val_loss: 1.1379 - val_accuracy: 0.6289 - lr: 1.0000e-04\n",
            "Epoch 38/48\n",
            "226/226 [==============================] - 16s 72ms/step - loss: 0.6805 - accuracy: 0.7504 - val_loss: 1.1557 - val_accuracy: 0.6330 - lr: 1.0000e-04\n",
            "Epoch 39/48\n",
            "226/226 [==============================] - 16s 72ms/step - loss: 0.6547 - accuracy: 0.7572 - val_loss: 1.1271 - val_accuracy: 0.6367 - lr: 1.0000e-04\n",
            "Epoch 40/48\n",
            "226/226 [==============================] - 16s 72ms/step - loss: 0.6348 - accuracy: 0.7651 - val_loss: 1.1623 - val_accuracy: 0.6275 - lr: 1.0000e-04\n",
            "Epoch 41/48\n",
            " 49/226 [=====>........................] - ETA: 11s - loss: 0.5979 - accuracy: 0.7742"
          ]
        }
      ]
    },
    {
      "cell_type": "code",
      "source": [
        "expression_model.save('exp_model.h5')"
      ],
      "metadata": {
        "id": "qbBOg-xNMw61"
      },
      "execution_count": 20,
      "outputs": []
    },
    {
      "cell_type": "code",
      "source": [
        "# Träna andra modellen\n",
        "\n",
        "age_model.fit(\n",
        "    train_set_age,\n",
        "    epochs=num_epochs,\n",
        "    validation_data=val_set_age,\n",
        "    callbacks=callbacks_list\n",
        ")"
      ],
      "metadata": {
        "id": "qwQ2Hn0jxU65",
        "colab": {
          "base_uri": "https://localhost:8080/"
        },
        "outputId": "73e47058-cc44-48da-8d5e-2b11f3239fd4"
      },
      "execution_count": 18,
      "outputs": [
        {
          "output_type": "stream",
          "name": "stdout",
          "text": [
            "Epoch 1/48\n",
            "186/186 [==============================] - 44s 214ms/step - loss: 4.8211 - accuracy: 0.0661 - val_loss: 4.6871 - val_accuracy: 0.0909 - lr: 1.0000e-04\n",
            "Epoch 2/48\n",
            "186/186 [==============================] - 33s 178ms/step - loss: 4.1009 - accuracy: 0.1117 - val_loss: 3.9021 - val_accuracy: 0.1295 - lr: 1.0000e-04\n",
            "Epoch 3/48\n",
            "186/186 [==============================] - 35s 186ms/step - loss: 3.7907 - accuracy: 0.1294 - val_loss: 3.4444 - val_accuracy: 0.1618 - lr: 1.0000e-04\n",
            "Epoch 4/48\n",
            "186/186 [==============================] - 34s 181ms/step - loss: 3.6206 - accuracy: 0.1366 - val_loss: 3.2236 - val_accuracy: 0.1861 - lr: 1.0000e-04\n",
            "Epoch 5/48\n",
            "186/186 [==============================] - 33s 179ms/step - loss: 3.5057 - accuracy: 0.1438 - val_loss: 3.2451 - val_accuracy: 0.1875 - lr: 1.0000e-04\n",
            "Epoch 6/48\n",
            "186/186 [==============================] - 33s 176ms/step - loss: 3.4183 - accuracy: 0.1492 - val_loss: 4.3194 - val_accuracy: 0.1179 - lr: 1.0000e-04\n",
            "Epoch 7/48\n",
            "186/186 [==============================] - 33s 176ms/step - loss: 3.3392 - accuracy: 0.1560 - val_loss: 3.1766 - val_accuracy: 0.1994 - lr: 1.0000e-04\n",
            "Epoch 8/48\n",
            "186/186 [==============================] - 34s 181ms/step - loss: 3.2799 - accuracy: 0.1601 - val_loss: 2.9318 - val_accuracy: 0.2247 - lr: 1.0000e-04\n",
            "Epoch 9/48\n",
            "186/186 [==============================] - 33s 176ms/step - loss: 3.2299 - accuracy: 0.1681 - val_loss: 2.8448 - val_accuracy: 0.2409 - lr: 1.0000e-04\n",
            "Epoch 10/48\n",
            "186/186 [==============================] - 33s 176ms/step - loss: 3.1661 - accuracy: 0.1711 - val_loss: 2.7794 - val_accuracy: 0.2474 - lr: 1.0000e-04\n",
            "Epoch 11/48\n",
            "186/186 [==============================] - 34s 185ms/step - loss: 3.1336 - accuracy: 0.1769 - val_loss: 2.8219 - val_accuracy: 0.2467 - lr: 1.0000e-04\n",
            "Epoch 12/48\n",
            "186/186 [==============================] - 32s 174ms/step - loss: 3.0793 - accuracy: 0.1851 - val_loss: 2.6500 - val_accuracy: 0.2789 - lr: 1.0000e-04\n",
            "Epoch 13/48\n",
            "186/186 [==============================] - 38s 206ms/step - loss: 3.0490 - accuracy: 0.1884 - val_loss: 2.7141 - val_accuracy: 0.2709 - lr: 1.0000e-04\n",
            "Epoch 14/48\n",
            "186/186 [==============================] - 33s 176ms/step - loss: 3.0056 - accuracy: 0.1982 - val_loss: 2.5994 - val_accuracy: 0.2899 - lr: 1.0000e-04\n",
            "Epoch 15/48\n",
            "186/186 [==============================] - 33s 176ms/step - loss: 2.9719 - accuracy: 0.1992 - val_loss: 2.5130 - val_accuracy: 0.3022 - lr: 1.0000e-04\n",
            "Epoch 16/48\n",
            "186/186 [==============================] - 32s 174ms/step - loss: 2.9315 - accuracy: 0.2101 - val_loss: 2.6340 - val_accuracy: 0.2845 - lr: 1.0000e-04\n",
            "Epoch 17/48\n",
            "186/186 [==============================] - 39s 210ms/step - loss: 2.8821 - accuracy: 0.2200 - val_loss: 2.3712 - val_accuracy: 0.3271 - lr: 1.0000e-04\n",
            "Epoch 18/48\n",
            "186/186 [==============================] - 34s 184ms/step - loss: 2.8482 - accuracy: 0.2211 - val_loss: 2.4393 - val_accuracy: 0.3433 - lr: 1.0000e-04\n",
            "Epoch 19/48\n",
            "186/186 [==============================] - 32s 171ms/step - loss: 2.8049 - accuracy: 0.2287 - val_loss: 2.2766 - val_accuracy: 0.3713 - lr: 1.0000e-04\n",
            "Epoch 20/48\n",
            "186/186 [==============================] - 32s 170ms/step - loss: 2.7656 - accuracy: 0.2412 - val_loss: 2.1885 - val_accuracy: 0.3971 - lr: 1.0000e-04\n",
            "Epoch 21/48\n",
            "186/186 [==============================] - 32s 171ms/step - loss: 2.7251 - accuracy: 0.2503 - val_loss: 2.2033 - val_accuracy: 0.3958 - lr: 1.0000e-04\n",
            "Epoch 22/48\n",
            "186/186 [==============================] - 34s 180ms/step - loss: 2.6929 - accuracy: 0.2513 - val_loss: 2.0728 - val_accuracy: 0.4316 - lr: 1.0000e-04\n",
            "Epoch 23/48\n",
            "186/186 [==============================] - 32s 174ms/step - loss: 2.6457 - accuracy: 0.2662 - val_loss: 2.1087 - val_accuracy: 0.4360 - lr: 1.0000e-04\n",
            "Epoch 24/48\n",
            "186/186 [==============================] - 31s 169ms/step - loss: 2.5918 - accuracy: 0.2755 - val_loss: 1.9451 - val_accuracy: 0.4783 - lr: 1.0000e-04\n",
            "Epoch 25/48\n",
            "186/186 [==============================] - 32s 173ms/step - loss: 2.5587 - accuracy: 0.2828 - val_loss: 1.8406 - val_accuracy: 0.5044 - lr: 1.0000e-04\n",
            "Epoch 26/48\n",
            "186/186 [==============================] - 34s 182ms/step - loss: 2.5117 - accuracy: 0.2937 - val_loss: 1.8965 - val_accuracy: 0.4990 - lr: 1.0000e-04\n",
            "Epoch 27/48\n",
            "186/186 [==============================] - 32s 170ms/step - loss: 2.4650 - accuracy: 0.3007 - val_loss: 1.8010 - val_accuracy: 0.5183 - lr: 1.0000e-04\n",
            "Epoch 28/48\n",
            "186/186 [==============================] - 32s 172ms/step - loss: 2.4120 - accuracy: 0.3158 - val_loss: 1.6318 - val_accuracy: 0.5759 - lr: 1.0000e-04\n",
            "Epoch 29/48\n",
            "186/186 [==============================] - 33s 175ms/step - loss: 2.3707 - accuracy: 0.3278 - val_loss: 1.5888 - val_accuracy: 0.5936 - lr: 1.0000e-04\n",
            "Epoch 30/48\n",
            "186/186 [==============================] - 38s 204ms/step - loss: 2.3185 - accuracy: 0.3405 - val_loss: 1.7118 - val_accuracy: 0.5415 - lr: 1.0000e-04\n",
            "Epoch 31/48\n",
            "186/186 [==============================] - 32s 170ms/step - loss: 2.2784 - accuracy: 0.3477 - val_loss: 1.5565 - val_accuracy: 0.6022 - lr: 1.0000e-04\n",
            "Epoch 32/48\n",
            "186/186 [==============================] - 32s 170ms/step - loss: 2.2427 - accuracy: 0.3606 - val_loss: 1.3961 - val_accuracy: 0.6495 - lr: 1.0000e-04\n",
            "Epoch 33/48\n",
            "186/186 [==============================] - 33s 176ms/step - loss: 2.1768 - accuracy: 0.3755 - val_loss: 1.2784 - val_accuracy: 0.6893 - lr: 1.0000e-04\n",
            "Epoch 34/48\n",
            "186/186 [==============================] - 32s 174ms/step - loss: 2.1294 - accuracy: 0.3917 - val_loss: 1.2233 - val_accuracy: 0.7096 - lr: 1.0000e-04\n",
            "Epoch 35/48\n",
            "186/186 [==============================] - 32s 171ms/step - loss: 2.0811 - accuracy: 0.4011 - val_loss: 1.1460 - val_accuracy: 0.7319 - lr: 1.0000e-04\n",
            "Epoch 36/48\n",
            "186/186 [==============================] - 33s 176ms/step - loss: 2.0313 - accuracy: 0.4126 - val_loss: 1.1842 - val_accuracy: 0.7123 - lr: 1.0000e-04\n",
            "Epoch 37/48\n",
            "186/186 [==============================] - 38s 207ms/step - loss: 1.9863 - accuracy: 0.4235 - val_loss: 1.0016 - val_accuracy: 0.7740 - lr: 1.0000e-04\n",
            "Epoch 38/48\n",
            "186/186 [==============================] - 33s 178ms/step - loss: 1.9254 - accuracy: 0.4400 - val_loss: 1.0827 - val_accuracy: 0.7481 - lr: 1.0000e-04\n",
            "Epoch 39/48\n",
            "186/186 [==============================] - 39s 210ms/step - loss: 1.8863 - accuracy: 0.4494 - val_loss: 1.0120 - val_accuracy: 0.7678 - lr: 1.0000e-04\n",
            "Epoch 40/48\n",
            "186/186 [==============================] - 32s 173ms/step - loss: 1.8337 - accuracy: 0.4655 - val_loss: 0.8652 - val_accuracy: 0.8075 - lr: 1.0000e-04\n",
            "Epoch 41/48\n",
            "186/186 [==============================] - 35s 190ms/step - loss: 1.7923 - accuracy: 0.4777 - val_loss: 0.7536 - val_accuracy: 0.8429 - lr: 1.0000e-04\n",
            "Epoch 42/48\n",
            "186/186 [==============================] - 32s 173ms/step - loss: 1.7427 - accuracy: 0.4873 - val_loss: 0.7116 - val_accuracy: 0.8566 - lr: 1.0000e-04\n",
            "Epoch 43/48\n",
            "186/186 [==============================] - 39s 208ms/step - loss: 1.7173 - accuracy: 0.4945 - val_loss: 0.6544 - val_accuracy: 0.8655 - lr: 1.0000e-04\n",
            "Epoch 44/48\n",
            "186/186 [==============================] - 33s 176ms/step - loss: 1.6471 - accuracy: 0.5114 - val_loss: 0.7321 - val_accuracy: 0.8341 - lr: 1.0000e-04\n",
            "Epoch 45/48\n",
            "186/186 [==============================] - 32s 173ms/step - loss: 1.6131 - accuracy: 0.5193 - val_loss: 0.6152 - val_accuracy: 0.8743 - lr: 1.0000e-04\n",
            "Epoch 46/48\n",
            "186/186 [==============================] - 33s 177ms/step - loss: 1.5750 - accuracy: 0.5312 - val_loss: 0.6032 - val_accuracy: 0.8735 - lr: 1.0000e-04\n",
            "Epoch 47/48\n",
            "186/186 [==============================] - 33s 179ms/step - loss: 1.5237 - accuracy: 0.5466 - val_loss: 0.5013 - val_accuracy: 0.9060 - lr: 1.0000e-04\n",
            "Epoch 48/48\n",
            "186/186 [==============================] - 34s 184ms/step - loss: 1.4895 - accuracy: 0.5547 - val_loss: 0.4624 - val_accuracy: 0.9118 - lr: 1.0000e-04\n"
          ]
        },
        {
          "output_type": "execute_result",
          "data": {
            "text/plain": [
              "<keras.src.callbacks.History at 0x7a87237c9f00>"
            ]
          },
          "metadata": {},
          "execution_count": 18
        }
      ]
    },
    {
      "cell_type": "code",
      "source": [
        "age_model.save('age_model.h5')"
      ],
      "metadata": {
        "id": "S9CzCcOAwFBR"
      },
      "execution_count": 19,
      "outputs": []
    },
    {
      "cell_type": "code",
      "source": [
        "# Kombinera modellerna\n",
        "\n",
        "combined_model = Model(inputs=input_layer, outputs=[expression_output, age_output])\n",
        "\n",
        "combined_model.save('combined_model.h5')\n"
      ],
      "metadata": {
        "id": "1jwVPrX8xt4S",
        "colab": {
          "base_uri": "https://localhost:8080/"
        },
        "outputId": "b781f87c-ba02-4b4d-d9bf-ed4c558b0385"
      },
      "execution_count": 21,
      "outputs": [
        {
          "output_type": "stream",
          "name": "stderr",
          "text": [
            "WARNING:tensorflow:Compiled the loaded model, but the compiled metrics have yet to be built. `model.compile_metrics` will be empty until you train or evaluate the model.\n"
          ]
        }
      ]
    },
    {
      "cell_type": "markdown",
      "source": [],
      "metadata": {
        "id": "HnS-kMnzxTAZ"
      }
    }
  ]
}